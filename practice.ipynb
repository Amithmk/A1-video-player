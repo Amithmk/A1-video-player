{
  "nbformat": 4,
  "nbformat_minor": 0,
  "metadata": {
    "colab": {
      "provenance": [],
      "include_colab_link": true
    },
    "kernelspec": {
      "name": "python3",
      "display_name": "Python 3"
    },
    "language_info": {
      "name": "python"
    }
  },
  "cells": [
    {
      "cell_type": "markdown",
      "metadata": {
        "id": "view-in-github",
        "colab_type": "text"
      },
      "source": [
        "<a href=\"https://colab.research.google.com/github/Amithmk/A1-video-player/blob/master/practice.ipynb\" target=\"_parent\"><img src=\"https://colab.research.google.com/assets/colab-badge.svg\" alt=\"Open In Colab\"/></a>"
      ]
    },
    {
      "cell_type": "code",
      "source": [
        "// Java program that adds two numbers using the concept of objects and classes\n",
        "\n",
        "class Calculator {\n",
        "    int add(int a, int b) {\n",
        "        return a + b;\n",
        "    }\n",
        "}\n",
        "\n",
        "// Main Program\n",
        "public class AddNumbersUsingClasses {\n",
        "    public static void main(String[] args) {\n",
        "        Calculator calculator = new Calculator();\n",
        "        int num1 = 5;\n",
        "        int num2 = 7;\n",
        "        int sum = calculator.add(num1, num2);\n",
        "        System.out.println(\"Sum of \" + num1 + \" and \" + num2 + \" is: \" + sum);\n",
        "    }\n",
        "}\n",
        "\n"
      ],
      "metadata": {
        "id": "ac4684f3p3wn"
      },
      "execution_count": null,
      "outputs": []
    },
    {
      "cell_type": "code",
      "source": [
        "Java program that uses a while loop to calculate the sum of numbers from 1 to 10.\n",
        "\n",
        "public class WhileLoopSumExample\n",
        "{\n",
        "public static void main(String[] args)\n",
        "{\n",
        "int i = 1; // Initialize the counter\n",
        "int sum = 0; // Initialize the sum\n",
        "System.out.println(\"Calculating the sum of numbers from 1 to 10 using a while loop:\");\n",
        "while (i <= 10)\n",
        "{\n",
        "sum += i; // Add the current value of i to the sum\n",
        "i++; // Increment the counter\n",
        "}\n",
        "System.out.println(\"The sum is: \" + sum);\n",
        "}\n",
        "}"
      ],
      "metadata": {
        "id": "Iyu4ORMeqSIB"
      },
      "execution_count": null,
      "outputs": []
    },
    {
      "cell_type": "code",
      "source": [],
      "metadata": {
        "id": "_HGOU3RtqL8z"
      },
      "execution_count": null,
      "outputs": []
    },
    {
      "cell_type": "code",
      "source": [
        "\n",
        "3.\tJava program that demonstrates single inheritance by creating a base class for adding two numbers and then creating a derived class to perform subtraction.\n",
        "\n",
        "class Adder\n",
        "{\n",
        "int num1;\n",
        "int num2;\n",
        "Adder(int n1, int n2)\n",
        "{\n",
        "num1 = n1;\n",
        "num2 = n2;\n",
        "}\n",
        "int add()\n",
        "{\n",
        "return num1 + num2;\n",
        "}\n",
        "}\n",
        "class Subtractor extends Adder\n",
        "{\n",
        "Subtractor(int n1, int n2)\n",
        "{\n",
        "super(n1, n2);\n",
        "}\n",
        "int subtract()\n",
        "{\n",
        "return num1 - num2;\n",
        "}\n",
        "}\n",
        "public class SingleInheritanceExample\n",
        "{\n",
        "public static void main(String[] args)\n",
        "{\n",
        "Subtractor subtractor = new Subtractor(10, 5);\n",
        "int sum = subtractor.add();\n",
        "int difference = subtractor.subtract();\n",
        "System.out.println(\"Sum: \" + sum);\n",
        "System.out.println(\"Difference: \" + difference);\n",
        "}\n",
        "}"
      ],
      "metadata": {
        "id": "cI8TtEpaqhvK"
      },
      "execution_count": null,
      "outputs": []
    },
    {
      "cell_type": "code",
      "source": [
        "4.\tJava program that demonstrates exception handling\n",
        "\n",
        "public class ExceptionHandlingDemo\n",
        "{\n",
        "public static void main(String[] args)\n",
        "{\n",
        "try\n",
        "{\n",
        "// Attempt to divide by zero, which will throw an ArithmeticException\n",
        "int result = 10 / 0;\n",
        "System.out.println(\"Result: \" + result);\n",
        "}\n",
        "catch (ArithmeticException e)\n",
        "{\n",
        "// Catch and handle the ArithmeticException\n",
        "System.out.println(\"An arithmetic exception occurred: \" + e.getMessage());\n",
        "}\n",
        "finally\n",
        "{\n",
        "// This block will always execute, regardless of whether an exception occurred or not\n",
        "System.out.println(\"Finally block executed.\");\n",
        "}\n",
        "System.out.println(\"Program continues after exception handling.\");\n",
        "}\n",
        "}"
      ],
      "metadata": {
        "id": "0Z6sF3KlqyCz"
      },
      "execution_count": null,
      "outputs": []
    }
  ]
}